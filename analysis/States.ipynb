{
 "cells": [
  {
   "cell_type": "code",
   "execution_count": 1,
   "metadata": {},
   "outputs": [],
   "source": [
    "import pandas as pd \n",
    "import numpy as np \n",
    "import re\n",
    "import json \n",
    "from math import pi\n",
    "from bokeh.plotting import figure, output_file, show\n"
   ]
  },
  {
   "cell_type": "code",
   "execution_count": 2,
   "metadata": {},
   "outputs": [],
   "source": [
    "import nltk\n",
    "from nltk.stem import PorterStemmer \n",
    "from nltk.tokenize import word_tokenize "
   ]
  },
  {
   "cell_type": "markdown",
   "metadata": {},
   "source": [
    "What is the state breakdown of the gendered phrases?"
   ]
  },
  {
   "cell_type": "code",
   "execution_count": 3,
   "metadata": {},
   "outputs": [],
   "source": [
    "masculine_themed_wording = [\n",
    "    \"competitive\",\n",
    "    \"dominate\",\n",
    "    \"leader\",\n",
    "    \"rock star\",\n",
    "    \"rockstar\",\n",
    "    \"guru\",\n",
    "    \"ninja\",\n",
    "    \"hacker\",\n",
    "    \"superhero\",\n",
    "    \"prove themselves\",\n",
    "    \"analyze\",\n",
    "    \"determine\",\n",
    "    \"crush it\",\n",
    "    \"world class\",\n",
    "    \"superior\",\n",
    "    \"ambitious\",\n",
    "    \"aggressive\",\n",
    "]\n",
    "s = \"active adventurous aggress ambitio analy assert athlet autonom battle boast challeng champion compet confident courag decid decision decisive defend determin domina dominant driven fearless fight force greedy head-strong headstrong hierarch hostil impulsive independen individual intellect lead logic objective opinion outspoken persist principle reckless self-confiden self-relian self-sufficien selfconfiden selfrelian selfsufficien stubborn superior unreasonab\"\n",
    "newWords = s.split()\n",
    "# masculine_themed_wording += newWords\n",
    "# masculine_themed_wording = list(set(masculine_themed_wording))\n",
    "\n",
    "obviously_masculine_subset =['competitive', 'dominate', 'rockstar','rock star', 'ninja', 'superhero', 'world class',\n",
    "                          'superior', 'ambitious', 'aggressive', 'assert', 'ambitio', 'confident', 'decisive',\n",
    "                            'crush it', 'champion', 'athlet']\n",
    "\n",
    "feminine_themed_wording = '''agree\n",
    "affectionate\n",
    "child\n",
    "cheer\n",
    "collab\n",
    "commit\n",
    "compassion\n",
    "connect\n",
    "considerate\n",
    "cooperat\n",
    "co-operat\n",
    "depend\n",
    "emotiona\n",
    "empath\n",
    "feel\n",
    "flatterable\n",
    "gentle\n",
    "honest\n",
    "interpersonal\n",
    "interdependen\n",
    "interpersona\n",
    "inter-personal\n",
    "inter-dependen\n",
    "inter-persona\n",
    "kind\n",
    "kinship\n",
    "loyal\n",
    "modesty\n",
    "nag\n",
    "nurtur\n",
    "pleasant\n",
    "polite\n",
    "quiet\n",
    "respon\n",
    "sensitiv\n",
    "submissive\n",
    "sympath\n",
    "tender\n",
    "together\n",
    "trust\n",
    "warm\n",
    "whin\n",
    "enthusias\n",
    "inclusive\n",
    "yield\n",
    "share\n",
    "sharin'''.split()"
   ]
  },
  {
   "cell_type": "code",
   "execution_count": 4,
   "metadata": {},
   "outputs": [],
   "source": [
    "data_set = pd.read_csv(\"../data/derived_job_data.csv\")"
   ]
  },
  {
   "cell_type": "code",
   "execution_count": 45,
   "metadata": {},
   "outputs": [
    {
     "data": {
      "text/html": [
       "<div>\n",
       "<style scoped>\n",
       "    .dataframe tbody tr th:only-of-type {\n",
       "        vertical-align: middle;\n",
       "    }\n",
       "\n",
       "    .dataframe tbody tr th {\n",
       "        vertical-align: top;\n",
       "    }\n",
       "\n",
       "    .dataframe thead th {\n",
       "        text-align: right;\n",
       "    }\n",
       "</style>\n",
       "<table border=\"1\" class=\"dataframe\">\n",
       "  <thead>\n",
       "    <tr style=\"text-align: right;\">\n",
       "      <th></th>\n",
       "      <th>job_title</th>\n",
       "      <th>company</th>\n",
       "      <th>location</th>\n",
       "      <th>description</th>\n",
       "    </tr>\n",
       "  </thead>\n",
       "  <tbody>\n",
       "    <tr>\n",
       "      <th>0</th>\n",
       "      <td>MicroStrategy Developers HERE IN McLean VA (Fa...</td>\n",
       "      <td>Advansys Inc</td>\n",
       "      <td>VA</td>\n",
       "      <td>HelloPlease find the below requirement and do ...</td>\n",
       "    </tr>\n",
       "    <tr>\n",
       "      <th>1</th>\n",
       "      <td>Security Architect - Palo Alto Firewalls</td>\n",
       "      <td>Alagen</td>\n",
       "      <td>AZ</td>\n",
       "      <td>Alagen has combined over 20 years of recruitin...</td>\n",
       "    </tr>\n",
       "    <tr>\n",
       "      <th>2</th>\n",
       "      <td>Dynamics AX Senior System/Security Admin/Globa...</td>\n",
       "      <td>ConsultantFriends.com</td>\n",
       "      <td>IL</td>\n",
       "      <td>MS Dynamics System and Security Admin Global I...</td>\n",
       "    </tr>\n",
       "    <tr>\n",
       "      <th>3</th>\n",
       "      <td>IAM Consultant</td>\n",
       "      <td>Collabera</td>\n",
       "      <td>IL</td>\n",
       "      <td>Job ID5457_IAM_ILJob TitleIAM ConsultantJob Lo...</td>\n",
       "    </tr>\n",
       "    <tr>\n",
       "      <th>4</th>\n",
       "      <td>.Net Developer</td>\n",
       "      <td>Network Objects Inc.</td>\n",
       "      <td>CT</td>\n",
       "      <td>Net DeveloperHartford CTFULL TIMERequirements5...</td>\n",
       "    </tr>\n",
       "    <tr>\n",
       "      <th>...</th>\n",
       "      <td>...</td>\n",
       "      <td>...</td>\n",
       "      <td>...</td>\n",
       "      <td>...</td>\n",
       "    </tr>\n",
       "    <tr>\n",
       "      <th>20063</th>\n",
       "      <td>Peoplesoft Developer</td>\n",
       "      <td>ECOM - Elite Computer Consultants, Inc.</td>\n",
       "      <td>TX</td>\n",
       "      <td>ECOM is currently sourcing for a Peoplesoft Te...</td>\n",
       "    </tr>\n",
       "    <tr>\n",
       "      <th>20064</th>\n",
       "      <td>Whitespace Dispatch Coordinator - Houston</td>\n",
       "      <td>Design Strategy</td>\n",
       "      <td>TX</td>\n",
       "      <td>IT Support  Full Time Tech Dispatcher HoustonO...</td>\n",
       "    </tr>\n",
       "    <tr>\n",
       "      <th>20065</th>\n",
       "      <td>Senior Software Engineer</td>\n",
       "      <td>CTP - Cloud Technology Partners</td>\n",
       "      <td>MA</td>\n",
       "      <td>Help us solve the worlds most challenging clou...</td>\n",
       "    </tr>\n",
       "    <tr>\n",
       "      <th>20066</th>\n",
       "      <td>Financial Analyst with OPEX</td>\n",
       "      <td>NetPace</td>\n",
       "      <td>CA</td>\n",
       "      <td>HOT POSITION Finance AnalystLocation San JoseD...</td>\n",
       "    </tr>\n",
       "    <tr>\n",
       "      <th>20067</th>\n",
       "      <td>IT Support Specialist</td>\n",
       "      <td>Advanced Network Solutions</td>\n",
       "      <td>TN</td>\n",
       "      <td>Advanced Network Solutions is looking for a fu...</td>\n",
       "    </tr>\n",
       "  </tbody>\n",
       "</table>\n",
       "<p>20068 rows × 4 columns</p>\n",
       "</div>"
      ],
      "text/plain": [
       "                                               job_title  \\\n",
       "0      MicroStrategy Developers HERE IN McLean VA (Fa...   \n",
       "1               Security Architect - Palo Alto Firewalls   \n",
       "2      Dynamics AX Senior System/Security Admin/Globa...   \n",
       "3                                         IAM Consultant   \n",
       "4                                         .Net Developer   \n",
       "...                                                  ...   \n",
       "20063                               Peoplesoft Developer   \n",
       "20064          Whitespace Dispatch Coordinator - Houston   \n",
       "20065                           Senior Software Engineer   \n",
       "20066                        Financial Analyst with OPEX   \n",
       "20067                              IT Support Specialist   \n",
       "\n",
       "                                       company location  \\\n",
       "0                                 Advansys Inc       VA   \n",
       "1                                       Alagen       AZ   \n",
       "2                        ConsultantFriends.com       IL   \n",
       "3                                    Collabera       IL   \n",
       "4                         Network Objects Inc.       CT   \n",
       "...                                        ...      ...   \n",
       "20063  ECOM - Elite Computer Consultants, Inc.       TX   \n",
       "20064                          Design Strategy       TX   \n",
       "20065          CTP - Cloud Technology Partners       MA   \n",
       "20066                                  NetPace       CA   \n",
       "20067               Advanced Network Solutions       TN   \n",
       "\n",
       "                                             description  \n",
       "0      HelloPlease find the below requirement and do ...  \n",
       "1      Alagen has combined over 20 years of recruitin...  \n",
       "2      MS Dynamics System and Security Admin Global I...  \n",
       "3      Job ID5457_IAM_ILJob TitleIAM ConsultantJob Lo...  \n",
       "4      Net DeveloperHartford CTFULL TIMERequirements5...  \n",
       "...                                                  ...  \n",
       "20063  ECOM is currently sourcing for a Peoplesoft Te...  \n",
       "20064  IT Support  Full Time Tech Dispatcher HoustonO...  \n",
       "20065  Help us solve the worlds most challenging clou...  \n",
       "20066  HOT POSITION Finance AnalystLocation San JoseD...  \n",
       "20067  Advanced Network Solutions is looking for a fu...  \n",
       "\n",
       "[20068 rows x 4 columns]"
      ]
     },
     "execution_count": 45,
     "metadata": {},
     "output_type": "execute_result"
    }
   ],
   "source": [
    "data_set"
   ]
  },
  {
   "cell_type": "code",
   "execution_count": 6,
   "metadata": {},
   "outputs": [],
   "source": [
    "def stem_tokens(s): \n",
    "    ps = PorterStemmer()\n",
    "    tokens = word_tokenize(s)\n",
    "    stem = list(map(lambda x : ps.stem(x), tokens))\n",
    "    \n",
    "    return stem "
   ]
  },
  {
   "cell_type": "code",
   "execution_count": 7,
   "metadata": {},
   "outputs": [],
   "source": []
  },
  {
   "cell_type": "code",
   "execution_count": 8,
   "metadata": {},
   "outputs": [],
   "source": [
    "# descriptionDict = createTokenizedJobDescriptionDict(data_set)"
   ]
  },
  {
   "cell_type": "code",
   "execution_count": 9,
   "metadata": {},
   "outputs": [],
   "source": [
    "# tokenized_description = data_set['description'].apply(lambda x: ' '.join(stem_tokens(x)))\n",
    "tokenized_description = pd.read_csv('dataWithStemmedDescription.csv')['description']"
   ]
  },
  {
   "cell_type": "code",
   "execution_count": 10,
   "metadata": {},
   "outputs": [],
   "source": [
    "ps = PorterStemmer()"
   ]
  },
  {
   "cell_type": "code",
   "execution_count": 12,
   "metadata": {},
   "outputs": [],
   "source": [
    "def phraseCount(phrase, description): \n",
    "    #this counts the amount of times phrase shows up in description\n",
    "    s = '\\\\b(' + phrase + ')\\\\b'\n",
    "    regex = re.compile(s,re.IGNORECASE)\n",
    "    return len(re.findall(regex, description))"
   ]
  },
  {
   "cell_type": "code",
   "execution_count": 13,
   "metadata": {},
   "outputs": [],
   "source": [
    "def indicesOfJobsWithPhrase(phrase, df, descriptionDict): \n",
    "    indices = []\n",
    "    for index, row in df.iterrows(): \n",
    "        stemmedPhrase = ' '.join(stem_tokens(phrase))\n",
    "        if phraseCount(phrase,row.get('description')) > 0 \\\n",
    "        or phraseCount(stemmedPhrase, descriptionDict[index]) > 0: \n",
    "            indices.append(index)\n",
    "    return indices"
   ]
  },
  {
   "cell_type": "code",
   "execution_count": 14,
   "metadata": {},
   "outputs": [],
   "source": [
    "def computeStateInfo(state, full_df,descriptions,themed_wording): \n",
    "    stateInfo = {}\n",
    "    stateInfo['region'] = state\n",
    "    stateInfo['word_count'] = {}\n",
    "    stateInfo['word_indices'] = {}\n",
    "    state_df = full_df.where(full_df['location'] == state).dropna()\n",
    "    biasedIndices = []; \n",
    "    \n",
    "    for word in themed_wording: \n",
    "        \n",
    "        indices = indicesOfJobsWithPhrase(word, state_df, descriptions)\n",
    "        stateInfo['word_count'][word] = len(indices)\n",
    "        stateInfo['word_indices'][word] = indices\n",
    "        biasedIndices += indices\n",
    "    \n",
    "    topWords = [item[0] for item in reversed(sorted(stateInfo['word_count'].items(), key = lambda kv: kv[1]))][:5]\n",
    "    \n",
    "    stateInfo['numberOfJobsInDataSet'] = len(state_df)\n",
    "    stateInfo['numberOfBiasedJobs'] = len(set(biasedIndices))\n",
    "    try: \n",
    "        stateInfo['percentageOfBiasedJobs'] = float(stateInfo['numberOfBiasedJobs']/ stateInfo['numberOfJobsInDataSet']) * 100\n",
    "    except ZeroDivisionError: \n",
    "        stateInfo['percentageOfBiasedJobs'] = 'NA'\n",
    "                                                                                                               \n",
    "    stateInfo['questionFour'] = topWords\n",
    "    stateInfo['questionFive'] = {kv[0]: (kv[1] / stateInfo['numberOfJobsInDataSet'] * 100 if stateInfo['numberOfJobsInDataSet'] > 0 else 'NA')\n",
    "                                         for kv in stateInfo['word_count'].items()}\n",
    "    return stateInfo\n",
    "    "
   ]
  },
  {
   "cell_type": "code",
   "execution_count": 15,
   "metadata": {},
   "outputs": [],
   "source": [
    "def exportInfo(DF,themed_wording,name): \n",
    "        \n",
    "    states = states = pd.read_csv(\"states.csv\")\n",
    "    data = [computeStateInfo(state, DF,tokenized_description,themed_wording) for state in states['Code']]\n",
    "    stateData = data; \n",
    "    with open(name+'.json', 'w') as outfile:\n",
    "        json.dump(stateData, outfile,indent = 4)\n",
    "    return stateData\n",
    "        "
   ]
  },
  {
   "cell_type": "code",
   "execution_count": 17,
   "metadata": {},
   "outputs": [
    {
     "name": "stdout",
     "output_type": "stream",
     "text": [
      "runtime: 155.8856749534607\n"
     ]
    }
   ],
   "source": [
    "import time\n",
    "startTime = time.time()\n",
    "\n",
    "themed_wording = masculine_themed_wording\n",
    "name = 'originalMasculineWords'\n",
    "stateData = exportInfo(data_set,themed_wording,name)\n",
    "runtime = time.time() - startTime\n",
    "print(\"runtime:\",runtime)"
   ]
  },
  {
   "cell_type": "code",
   "execution_count": 18,
   "metadata": {},
   "outputs": [],
   "source": [
    "# stateData"
   ]
  },
  {
   "cell_type": "code",
   "execution_count": 19,
   "metadata": {},
   "outputs": [],
   "source": [
    "def countWords(stateData,themed_wording):\n",
    "    states = pd.read_csv(\"states.csv\")\n",
    "    D = {word: 0 for word in themed_wording}\n",
    "    for state in stateData: \n",
    "        for word in state['word_count']: \n",
    "            D[word] += state['word_count'][word]\n",
    "    return D\n",
    "D = countWords(stateData,themed_wording)"
   ]
  },
  {
   "cell_type": "code",
   "execution_count": 20,
   "metadata": {},
   "outputs": [
    {
     "name": "stdout",
     "output_type": "stream",
     "text": [
      "hundred: {'dominate': 14, 'rock star': 25, 'rockstar': 9, 'guru': 53, 'ninja': 11, 'hacker': 29, 'superhero': 1, 'prove themselves': 3, 'crush it': 0, 'ambitious': 77}\n",
      "fiveHundred: {'world class': 147, 'superior': 441, 'aggressive': 211}\n",
      "biggest: {'competitive': 1715, 'leader': 2030, 'analyze': 2887, 'determine': 1495}\n"
     ]
    }
   ],
   "source": [
    "hundred = { k:v for k,v in D.items() if D[k] < 100}\n",
    "fiveHundred = { k:v for k,v in D.items() if D[k] < 1000 and k not in hundred}\n",
    "biggest = {k:v for k,v in D.items() if k not in hundred and k not in fiveHundred}\n",
    "\n",
    "print('hundred:', hundred)\n",
    "print('fiveHundred:', fiveHundred)\n",
    "print('biggest:', biggest)"
   ]
  },
  {
   "cell_type": "code",
   "execution_count": null,
   "metadata": {},
   "outputs": [],
   "source": [
    "# sub1000graph = {word:{state['region']:state['questionFive'][word] for state in stateData} for word in masculine_themed_wording}\n",
    "# sub1000graph"
   ]
  },
  {
   "cell_type": "code",
   "execution_count": null,
   "metadata": {},
   "outputs": [],
   "source": [
    "%matplotlib inline"
   ]
  },
  {
   "cell_type": "code",
   "execution_count": null,
   "metadata": {},
   "outputs": [],
   "source": [
    "import matplotlib.pyplot as plt"
   ]
  },
  {
   "cell_type": "code",
   "execution_count": null,
   "metadata": {},
   "outputs": [],
   "source": [
    "%matplotlib notebook"
   ]
  },
  {
   "cell_type": "code",
   "execution_count": null,
   "metadata": {},
   "outputs": [],
   "source": [
    "fig1 , ax = plt.subplots()"
   ]
  },
  {
   "cell_type": "code",
   "execution_count": 21,
   "metadata": {},
   "outputs": [],
   "source": [
    "x = [state['region'] for state in reversed(sorted(stateData, key = lambda x: x['numberOfJobsInDataSet'])) if state['percentageOfBiasedJobs'] != 'NA']"
   ]
  },
  {
   "cell_type": "code",
   "execution_count": 22,
   "metadata": {},
   "outputs": [],
   "source": [
    "y = [float(state['percentageOfBiasedJobs']) for state in reversed(sorted(stateData, key = lambda x: x['numberOfJobsInDataSet'])) if state['percentageOfBiasedJobs'] != 'NA']"
   ]
  },
  {
   "cell_type": "code",
   "execution_count": 23,
   "metadata": {},
   "outputs": [
    {
     "ename": "NameError",
     "evalue": "name 'ax' is not defined",
     "output_type": "error",
     "traceback": [
      "\u001b[0;31m---------------------------------------------------------------------------\u001b[0m",
      "\u001b[0;31mNameError\u001b[0m                                 Traceback (most recent call last)",
      "\u001b[0;32m<ipython-input-23-9f841261f3b1>\u001b[0m in \u001b[0;36m<module>\u001b[0;34m\u001b[0m\n\u001b[0;32m----> 1\u001b[0;31m \u001b[0max\u001b[0m\u001b[0;34m.\u001b[0m\u001b[0mbar\u001b[0m\u001b[0;34m(\u001b[0m\u001b[0mx\u001b[0m\u001b[0;34m,\u001b[0m\u001b[0my\u001b[0m\u001b[0;34m)\u001b[0m\u001b[0;34m\u001b[0m\u001b[0;34m\u001b[0m\u001b[0m\n\u001b[0m\u001b[1;32m      2\u001b[0m \u001b[0max\u001b[0m\u001b[0;34m.\u001b[0m\u001b[0mtick_params\u001b[0m\u001b[0;34m(\u001b[0m\u001b[0maxis\u001b[0m\u001b[0;34m=\u001b[0m\u001b[0;34m'x'\u001b[0m\u001b[0;34m,\u001b[0m \u001b[0mwhich\u001b[0m\u001b[0;34m=\u001b[0m\u001b[0;34m'major'\u001b[0m\u001b[0;34m,\u001b[0m \u001b[0mrotation\u001b[0m \u001b[0;34m=\u001b[0m \u001b[0;36m270\u001b[0m\u001b[0;34m)\u001b[0m\u001b[0;34m\u001b[0m\u001b[0;34m\u001b[0m\u001b[0m\n\u001b[1;32m      3\u001b[0m \u001b[0max\u001b[0m\u001b[0;34m.\u001b[0m\u001b[0mset_xlabel\u001b[0m\u001b[0;34m(\u001b[0m\u001b[0;34m'state'\u001b[0m\u001b[0;34m)\u001b[0m\u001b[0;34m\u001b[0m\u001b[0;34m\u001b[0m\u001b[0m\n\u001b[1;32m      4\u001b[0m \u001b[0max\u001b[0m\u001b[0;34m.\u001b[0m\u001b[0mset_ylabel\u001b[0m\u001b[0;34m(\u001b[0m\u001b[0;34m'percentage of gendered job postings'\u001b[0m\u001b[0;34m)\u001b[0m\u001b[0;34m\u001b[0m\u001b[0;34m\u001b[0m\u001b[0m\n",
      "\u001b[0;31mNameError\u001b[0m: name 'ax' is not defined"
     ]
    }
   ],
   "source": [
    "ax.bar(x,y)\n",
    "ax.tick_params(axis='x', which='major', rotation = 270)\n",
    "ax.set_xlabel('state')\n",
    "ax.set_ylabel('percentage of gendered job postings')"
   ]
  },
  {
   "cell_type": "code",
   "execution_count": 56,
   "metadata": {},
   "outputs": [],
   "source": [
    "p = figure(x_range=x,plot_width = 800, plot_height=600, title=\"Percentage Of Job Listings With Original Words\",\n",
    "        toolbar_location=None, tools=\"\")\n",
    "\n",
    "p.vbar(x = x, top = y, width =.8)\n",
    "p.xaxis.major_label_orientation = pi/2\n",
    "p.xaxis.axis_label = 'State'\n",
    "p.yaxis.axis_label = 'Percentage'\n",
    "\n",
    "show(p)\n",
    "output_file(name+'.html')"
   ]
  },
  {
   "cell_type": "code",
   "execution_count": null,
   "metadata": {},
   "outputs": [],
   "source": [
    "fig2, ax2 = plt.subplots()\n",
    "plt.yscale('log')"
   ]
  },
  {
   "cell_type": "code",
   "execution_count": null,
   "metadata": {},
   "outputs": [],
   "source": [
    "x2 = [state['region'] for state in reversed(sorted(stateData, key = lambda x: x['numberOfJobsInDataSet']))] "
   ]
  },
  {
   "cell_type": "code",
   "execution_count": null,
   "metadata": {},
   "outputs": [],
   "source": [
    "y2 = [state['numberOfJobsInDataSet'] for state in reversed(sorted(stateData, key = lambda x: x['numberOfJobsInDataSet']))]"
   ]
  },
  {
   "cell_type": "code",
   "execution_count": null,
   "metadata": {},
   "outputs": [],
   "source": [
    "ax2.bar(x2,y2)\n",
    "ax2.tick_params(axis='x', which='major', rotation = 270)\n",
    "ax2.set_ylabel('number of job listings')\n",
    "ax2.set_xlabel('state')"
   ]
  },
  {
   "cell_type": "code",
   "execution_count": null,
   "metadata": {},
   "outputs": [],
   "source": [
    "def findNumberOfJobsWithPronouns(data_set): \n",
    "    mpronouns = ['he', 'him' ,'his']\n",
    "    fpronouns = ['she', 'her', 'hers']\n",
    "    pronounCounter = 0\n",
    "    mascPronounCounter = 0\n",
    "    femPronounCounter = 0\n",
    "    for index, row in data_set.iterrows():\n",
    "        mcount = 0\n",
    "        fcount = 0\n",
    "        for word in mpronouns: \n",
    "            mcount += phraseCount(word, row.get('description'))\n",
    "        for word in fpronouns: \n",
    "            fcount += phraseCount(word, row.get('description'))\n",
    "        if mcount + fcount > 0:\n",
    "            pronounCounter +=1 \n",
    "        if mcount > fcount: \n",
    "            mascPronounCounter += 1\n",
    "        if mcount < fcount: \n",
    "            femPronounCounter += 1\n",
    "\n",
    "    print('number of jobs that have gendered pronouns:', pronounCounter)\n",
    "    print('more masculine pronouns:', mascPronounCounter)\n",
    "    print('more feminine pronouns:', femPronounCounter)\n",
    "findNumberOfJobsWithPronouns(data_set)"
   ]
  },
  {
   "cell_type": "code",
   "execution_count": 53,
   "metadata": {},
   "outputs": [
    {
     "name": "stdout",
     "output_type": "stream",
     "text": [
      "percentage of gendered jobs: 34.93621686266693\n",
      "number of gendered jobs: 7011\n"
     ]
    }
   ],
   "source": [
    "numberOfGenderedJobs = sum([state['numberOfBiasedJobs']for state in stateData])\n",
    "numberOfJobs = data_set.shape[0]\n",
    "percentageOfGenderedJobs = numberOfGenderedJobs / numberOfJobs * 100\n",
    "print('percentage of gendered jobs:', percentageOfGenderedJobs)\n",
    "print('number of gendered jobs:', numberOfGenderedJobs)"
   ]
  },
  {
   "cell_type": "code",
   "execution_count": null,
   "metadata": {},
   "outputs": [],
   "source": []
  }
 ],
 "metadata": {
  "kernelspec": {
   "display_name": "Python 3",
   "language": "python",
   "name": "python3"
  },
  "language_info": {
   "codemirror_mode": {
    "name": "ipython",
    "version": 3
   },
   "file_extension": ".py",
   "mimetype": "text/x-python",
   "name": "python",
   "nbconvert_exporter": "python",
   "pygments_lexer": "ipython3",
   "version": "3.7.1"
  }
 },
 "nbformat": 4,
 "nbformat_minor": 2
}
