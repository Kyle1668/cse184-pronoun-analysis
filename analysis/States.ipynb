{
 "cells": [
  {
   "cell_type": "code",
   "execution_count": 85,
   "metadata": {},
   "outputs": [],
   "source": [
    "import pandas as pd \n",
    "import numpy as np \n",
    "import re\n",
    "import json "
   ]
  },
  {
   "cell_type": "markdown",
   "metadata": {},
   "source": [
    "What is the state breakdown of the gendered phrases?"
   ]
  },
  {
   "cell_type": "code",
   "execution_count": 100,
   "metadata": {},
   "outputs": [],
   "source": [
    "masculine_themed_wording = [\n",
    "    \"competitive\",\n",
    "    \"dominate\",\n",
    "    \"leader\",\n",
    "    \"rock star\",\n",
    "    \"rockstar\",\n",
    "    \"guru\",\n",
    "    \"ninja\",\n",
    "    \"hacker\",\n",
    "    \"superhero\",\n",
    "    \"prove themselves\",\n",
    "    \"analyze\",\n",
    "    \"determine\",\n",
    "    \"crush it\",\n",
    "    \"world class\",\n",
    "    \"superior\",\n",
    "    \"ambitious\",\n",
    "    \"aggressive\",\n",
    "    \"leader\"\n",
    "]"
   ]
  },
  {
   "cell_type": "code",
   "execution_count": 82,
   "metadata": {},
   "outputs": [],
   "source": [
    "data_set = pd.read_csv(\"dice_com-job_us_sample.csv\")\n",
    "data_set = data_set.get(['jobtitle','jobdescription','joblocation_address'])\n",
    "states = pd.read_csv(\"states.csv\")"
   ]
  },
  {
   "cell_type": "code",
   "execution_count": null,
   "metadata": {},
   "outputs": [],
   "source": [
    "data_set['State'] = data_set['joblocation_address'].apply(lambda x: pd.Series(str(x).split(\", \")[-1]))"
   ]
  },
  {
   "cell_type": "code",
   "execution_count": 94,
   "metadata": {},
   "outputs": [],
   "source": [
    "def numOfOcurrences(phrase, description): \n",
    "    regex = re.compile(phrase)\n",
    "    return len(re.findall(regex, description))"
   ]
  },
  {
   "cell_type": "code",
   "execution_count": 114,
   "metadata": {},
   "outputs": [],
   "source": [
    "def indicesOfJobsWithPhrase(phrase, df): \n",
    "    indices = []\n",
    "    for index, row in df.iterrows(): \n",
    "        if numOfOcurrences(phrase, row.get(\"jobdescription\")) > 0: \n",
    "            indices += [index]\n",
    "    return indices"
   ]
  },
  {
   "cell_type": "code",
   "execution_count": 128,
   "metadata": {},
   "outputs": [],
   "source": [
    "def computeStateInfo(state, full_df): \n",
    "    stateInfo = {}\n",
    "    stateInfo['word_count'] = {}\n",
    "    state_df = full_df.where(full_df['State'] == state).dropna()\n",
    "    biasedIndices = []; \n",
    "    for word in masculine_themed_wording: \n",
    "        \n",
    "        indices = indicesOfJobsWithPhrase(word, state_df)\n",
    "        stateInfo['word_count'][word] = len(indices)\n",
    "        biasedIndices += indices\n",
    "    \n",
    "    stateInfo['region'] = state\n",
    "    stateInfo['numberOfJobsInDataSet'] = len(state_df)\n",
    "    stateInfo['numberOfBiasedJobs'] = len(set(biasedIndices))\n",
    "    stateInfo['biasedIndices'] = list(set(biasedIndices))\n",
    "    return stateInfo\n",
    "    "
   ]
  },
  {
   "cell_type": "code",
   "execution_count": 134,
   "metadata": {},
   "outputs": [],
   "source": [
    "def exportInfo(DF): \n",
    "    data = [computeStateInfo(state, DF) for state in states['Code']]\n",
    "    stateData = {\"data\": data}; \n",
    "    with open('stateData.json', 'w') as outfile:\n",
    "        json.dump(stateData, outfile)\n",
    "    \n",
    "        "
   ]
  },
  {
   "cell_type": "code",
   "execution_count": 135,
   "metadata": {},
   "outputs": [],
   "source": [
    "exportInfo(data_set)"
   ]
  },
  {
   "cell_type": "code",
   "execution_count": null,
   "metadata": {},
   "outputs": [],
   "source": []
  }
 ],
 "metadata": {
  "kernelspec": {
   "display_name": "Python 3",
   "language": "python",
   "name": "python3"
  },
  "language_info": {
   "codemirror_mode": {
    "name": "ipython",
    "version": 3
   },
   "file_extension": ".py",
   "mimetype": "text/x-python",
   "name": "python",
   "nbconvert_exporter": "python",
   "pygments_lexer": "ipython3",
   "version": "3.7.1"
  }
 },
 "nbformat": 4,
 "nbformat_minor": 2
}
