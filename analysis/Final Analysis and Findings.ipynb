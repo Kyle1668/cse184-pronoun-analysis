{
 "cells": [
  {
   "cell_type": "markdown",
   "metadata": {},
   "source": [
    "# Analysis of Gender Bias in Tech Job Postings\n",
    "\n",
    "### CSE 184: Fall 2019 - Nikhil Dodd, Jerico Factor, Kyle O’Brien, Bryan Jimenez\n",
    "\n",
    "## Motivation\n",
    "\n",
    "It's common knowledge that a majority of software engineers identify as male. Despite gains in gender diversity across other STEM professions, software engineering remains largely stagnant. There is a myriad of factors influencing this reality.\n",
    "\n",
    "We're interested in exploring the role the wording of job postings play in potentially discouraging non-male candidates from applying. This project is inspired by Textio. ----------------FIX\n",
    "\n",
    "## Questions\n",
    "\n",
    "1. Out of X randomly collected software engineering jobs, what percentage have gender-specific pronouns?\n",
    "2. What’s the percentage breakdown by state/region?\n",
    "3. What are the most common keywords that encourage/discourage applicants?\n",
    "4. Does the company size or location influence a company's inclusion initiatives? ----------------FIX\n",
    "\n",
    "## Data Source\n",
    "\n",
    "As our data source, we'll be using hte LinkedIn job search tool. ----------------FIX"
   ]
  },
  {
   "cell_type": "markdown",
   "metadata": {},
   "source": [
    "### Import Dependencies "
   ]
  },
  {
   "cell_type": "code",
   "execution_count": 1,
   "metadata": {},
   "outputs": [
    {
     "name": "stderr",
     "output_type": "stream",
     "text": [
      "[nltk_data] Downloading package punkt to /Users/jrko/nltk_data...\n",
      "[nltk_data]   Package punkt is already up-to-date!\n"
     ]
    },
    {
     "data": {
      "text/plain": [
       "True"
      ]
     },
     "execution_count": 1,
     "metadata": {},
     "output_type": "execute_result"
    }
   ],
   "source": [
    "import numpy as np\n",
    "import pandas as pd\n",
    "import nltk\n",
    "from matplotlib import pyplot as plt\n",
    "import csv\n",
    "import requests\n",
    "import collections\n",
    "from bs4 import BeautifulSoup\n",
    "import geopandas as gpd\n",
    "import pandas_bokeh\n",
    "from shapely.geometry import Point, Polygon\n",
    "from mpl_toolkits.axes_grid1 import make_axes_locatable\n",
    "import matplotlib.pyplot as plt\n",
    "from nltk.stem import PorterStemmer\n",
    "from nltk.stem.snowball import SnowballStemmer\n",
    "from nltk.stem import LancasterStemmer\n",
    "from nltk.tokenize import sent_tokenize, word_tokenize\n",
    "from math import pi\n",
    "from bokeh.plotting import figure, output_file, show\n",
    "import plotly\n",
    "import plotly.figure_factory as ff\n",
    "import plotly.graph_objects as go\n",
    "import numpy as np\n",
    "import pandas as pd\n",
    "import csv\n",
    "import requests\n",
    "import collections\n",
    "from bs4 import BeautifulSoup\n",
    "import re\n",
    "import json\n",
    "\n",
    "%matplotlib notebook\n",
    "nltk.download('punkt')"
   ]
  },
  {
   "cell_type": "markdown",
   "metadata": {},
   "source": [
    "## Corpus\n",
    "\n",
    "----- Reasoning and sources"
   ]
  },
  {
   "cell_type": "code",
   "execution_count": 2,
   "metadata": {},
   "outputs": [],
   "source": [
    "gender_pronouns = [\n",
    "    \"he\",\n",
    "    \"him\",\n",
    "    \"she\",\n",
    "    \"her\",\n",
    "    \"his\",\n",
    "    \"hers\"\n",
    "]\n",
    "\n",
    "masculine_themed_wording = [\n",
    "    \"competitive\",\n",
    "    \"dominate\",\n",
    "    \"leader\",\n",
    "    \"rock star\",\n",
    "    \"rockstar\",\n",
    "    \"guru\",\n",
    "    \"ninja\",\n",
    "    \"hacker\",\n",
    "    \"superhero\",\n",
    "    \"prove themselves\",\n",
    "    \"analyze\",\n",
    "    \"determine\",\n",
    "    \"crush it\",\n",
    "    \"world class\",\n",
    "    \"superior\",\n",
    "    \"ambitious\",\n",
    "    \"aggressive\",\n",
    "    \"leader\", \n",
    "]\n",
    "\n",
    "obviously_masculine_subset =[\n",
    "    'competitive', \n",
    "    'dominate', \n",
    "    'rockstar',\n",
    "    'rock star', \n",
    "    'ninja', \n",
    "    'superhero',\n",
    "    'world class',\n",
    "    'superior', \n",
    "    'ambitious', \n",
    "    'aggressive', \n",
    "    'ambitious', \n",
    "    'crush it', ]\n",
    "\n",
    "states = [\n",
    "    'AL',\n",
    "    'AK',\n",
    "    'AZ',\n",
    "    'AR',\n",
    "    'CA',\n",
    "    'CO',\n",
    "    'CT',\n",
    "    'DE',\n",
    "    'DC',\n",
    "    'FL',\n",
    "    'GA',\n",
    "    'HI',\n",
    "    'ID',\n",
    "    'IL',\n",
    "    'IN',\n",
    "    'IA',\n",
    "    'KS',\n",
    "    'KY',\n",
    "    'LA',\n",
    "    'ME',\n",
    "    'MD',\n",
    "    'MA',\n",
    "    'MI',\n",
    "    'MN',\n",
    "    'MS',\n",
    "    'MO',\n",
    "    'MT',\n",
    "    'NE',\n",
    "    'NV',\n",
    "    'NH',\n",
    "    'NJ',\n",
    "    'NM',\n",
    "    'NY',\n",
    "    'NC',\n",
    "    'ND',\n",
    "    'OH',\n",
    "    'OK',\n",
    "    'OR',\n",
    "    'PA',\n",
    "    'RI',\n",
    "    'SC',\n",
    "    'SD',\n",
    "    'TN',\n",
    "    'TX',\n",
    "    'UT',\n",
    "    'VT',\n",
    "    'VA',\n",
    "    'WA',\n",
    "    'WV',\n",
    "    'WI',\n",
    "    'WY' \n",
    "]\n",
    "\n",
    "job_positions = [\n",
    "    \"developer\",\n",
    "    \"engineer\",\n",
    "    \"software engineer\",\n",
    "    \"software developer\",\n",
    "    \"product manager\",\n",
    "    \"manager\",\n",
    "    \"product developer\",\n",
    "    \"tech lead\",\n",
    "    \"lead\",\n",
    "    \"analyst\",\n",
    "    \"head\",\n",
    "    \"designer\"\n",
    "]\n",
    "\n",
    "common_job_roles = [\n",
    "    \"engineer\", \n",
    "    \"designer\", \n",
    "    \"manager\",\n",
    "    \"analyst\",\n",
    "    \"scientist\",\n",
    "    \"director\"\n",
    "    \"chief officer\",\n",
    "    \"sales\",\n",
    "    \"marketing\",\n",
    "]\n",
    "\n"
   ]
  },
  {
   "cell_type": "markdown",
   "metadata": {},
   "source": [
    "## Load Dataset\n",
    "Note: Breifly explain data collection process"
   ]
  },
  {
   "cell_type": "code",
   "execution_count": 3,
   "metadata": {},
   "outputs": [
    {
     "data": {
      "text/html": [
       "<div>\n",
       "<style scoped>\n",
       "    .dataframe tbody tr th:only-of-type {\n",
       "        vertical-align: middle;\n",
       "    }\n",
       "\n",
       "    .dataframe tbody tr th {\n",
       "        vertical-align: top;\n",
       "    }\n",
       "\n",
       "    .dataframe thead th {\n",
       "        text-align: right;\n",
       "    }\n",
       "</style>\n",
       "<table border=\"1\" class=\"dataframe\">\n",
       "  <thead>\n",
       "    <tr style=\"text-align: right;\">\n",
       "      <th></th>\n",
       "      <th>job_title</th>\n",
       "      <th>company</th>\n",
       "      <th>location</th>\n",
       "      <th>description</th>\n",
       "    </tr>\n",
       "  </thead>\n",
       "  <tbody>\n",
       "    <tr>\n",
       "      <th>0</th>\n",
       "      <td>MicroStrategy Developers HERE IN McLean VA (Fa...</td>\n",
       "      <td>Advansys Inc</td>\n",
       "      <td>VA</td>\n",
       "      <td>HelloPlease find the below requirement and do ...</td>\n",
       "    </tr>\n",
       "    <tr>\n",
       "      <th>1</th>\n",
       "      <td>Security Architect - Palo Alto Firewalls</td>\n",
       "      <td>Alagen</td>\n",
       "      <td>AZ</td>\n",
       "      <td>Alagen has combined over 20 years of recruitin...</td>\n",
       "    </tr>\n",
       "    <tr>\n",
       "      <th>2</th>\n",
       "      <td>Dynamics AX Senior System/Security Admin/Globa...</td>\n",
       "      <td>ConsultantFriends.com</td>\n",
       "      <td>IL</td>\n",
       "      <td>MS Dynamics System and Security Admin Global I...</td>\n",
       "    </tr>\n",
       "    <tr>\n",
       "      <th>3</th>\n",
       "      <td>IAM Consultant</td>\n",
       "      <td>Collabera</td>\n",
       "      <td>IL</td>\n",
       "      <td>Job ID5457_IAM_ILJob TitleIAM ConsultantJob Lo...</td>\n",
       "    </tr>\n",
       "    <tr>\n",
       "      <th>4</th>\n",
       "      <td>.Net Developer</td>\n",
       "      <td>Network Objects Inc.</td>\n",
       "      <td>CT</td>\n",
       "      <td>Net DeveloperHartford CTFULL TIMERequirements5...</td>\n",
       "    </tr>\n",
       "    <tr>\n",
       "      <th>5</th>\n",
       "      <td>DevOps Windows/ Linux Engineer</td>\n",
       "      <td>Associated Press</td>\n",
       "      <td>NJ</td>\n",
       "      <td>Position Application EngineerJob SummaryProvid...</td>\n",
       "    </tr>\n",
       "    <tr>\n",
       "      <th>6</th>\n",
       "      <td>Solution Architect</td>\n",
       "      <td>Caprus IT Inc.</td>\n",
       "      <td>MI</td>\n",
       "      <td>Hi We do have an urgent requirement  Job Title...</td>\n",
       "    </tr>\n",
       "    <tr>\n",
       "      <th>7</th>\n",
       "      <td>Immediate openings for Physical Design Enginee...</td>\n",
       "      <td>Calsoft Labs</td>\n",
       "      <td>CA</td>\n",
       "      <td>Job Overview  Floor planning PR timing closure...</td>\n",
       "    </tr>\n",
       "    <tr>\n",
       "      <th>8</th>\n",
       "      <td>Service Delivery Manager</td>\n",
       "      <td>Matlen Silver</td>\n",
       "      <td>NJ</td>\n",
       "      <td>MUST HAVE ENCRYPTION EXPERIENCE Looking for a ...</td>\n",
       "    </tr>\n",
       "    <tr>\n",
       "      <th>9</th>\n",
       "      <td>Management Consultant</td>\n",
       "      <td>Windsor Partners</td>\n",
       "      <td>CA</td>\n",
       "      <td>Duties and ResponsibilitiesConsultants play a ...</td>\n",
       "    </tr>\n",
       "    <tr>\n",
       "      <th>10</th>\n",
       "      <td>Network / System Engineer</td>\n",
       "      <td>Matlen Silver</td>\n",
       "      <td>TX</td>\n",
       "      <td>Position located in Addison TX part of DallasF...</td>\n",
       "    </tr>\n",
       "    <tr>\n",
       "      <th>11</th>\n",
       "      <td>Enterprise SaaS Release Manager</td>\n",
       "      <td>Edgelink</td>\n",
       "      <td>CA</td>\n",
       "      <td>We are hiring in beautiful San Francisco Calif...</td>\n",
       "    </tr>\n",
       "    <tr>\n",
       "      <th>12</th>\n",
       "      <td>Site Reliability Engineer</td>\n",
       "      <td>Amazon</td>\n",
       "      <td>NJ</td>\n",
       "      <td>About Audible   Audible Inc is the worlds larg...</td>\n",
       "    </tr>\n",
       "    <tr>\n",
       "      <th>13</th>\n",
       "      <td>SAP Technical Lead (ERP, ECC, HANA) in Melvill...</td>\n",
       "      <td>DBA Web Technologies</td>\n",
       "      <td>NY</td>\n",
       "      <td>SAP Technical Lead ERP ECC HANA in Melville NY...</td>\n",
       "    </tr>\n",
       "    <tr>\n",
       "      <th>14</th>\n",
       "      <td>Project Mgr/BA with CRM and digital experience...</td>\n",
       "      <td>Brandon Consulting</td>\n",
       "      <td>NY</td>\n",
       "      <td>This is regarding contract  oppurtunity in New...</td>\n",
       "    </tr>\n",
       "  </tbody>\n",
       "</table>\n",
       "</div>"
      ],
      "text/plain": [
       "                                            job_title                company  \\\n",
       "0   MicroStrategy Developers HERE IN McLean VA (Fa...           Advansys Inc   \n",
       "1            Security Architect - Palo Alto Firewalls                 Alagen   \n",
       "2   Dynamics AX Senior System/Security Admin/Globa...  ConsultantFriends.com   \n",
       "3                                      IAM Consultant              Collabera   \n",
       "4                                      .Net Developer   Network Objects Inc.   \n",
       "5                      DevOps Windows/ Linux Engineer       Associated Press   \n",
       "6                                  Solution Architect         Caprus IT Inc.   \n",
       "7   Immediate openings for Physical Design Enginee...           Calsoft Labs   \n",
       "8                            Service Delivery Manager          Matlen Silver   \n",
       "9                               Management Consultant       Windsor Partners   \n",
       "10                          Network / System Engineer          Matlen Silver   \n",
       "11                    Enterprise SaaS Release Manager               Edgelink   \n",
       "12                          Site Reliability Engineer                 Amazon   \n",
       "13  SAP Technical Lead (ERP, ECC, HANA) in Melvill...   DBA Web Technologies   \n",
       "14  Project Mgr/BA with CRM and digital experience...     Brandon Consulting   \n",
       "\n",
       "   location                                        description  \n",
       "0        VA  HelloPlease find the below requirement and do ...  \n",
       "1        AZ  Alagen has combined over 20 years of recruitin...  \n",
       "2        IL  MS Dynamics System and Security Admin Global I...  \n",
       "3        IL  Job ID5457_IAM_ILJob TitleIAM ConsultantJob Lo...  \n",
       "4        CT  Net DeveloperHartford CTFULL TIMERequirements5...  \n",
       "5        NJ  Position Application EngineerJob SummaryProvid...  \n",
       "6        MI  Hi We do have an urgent requirement  Job Title...  \n",
       "7        CA  Job Overview  Floor planning PR timing closure...  \n",
       "8        NJ  MUST HAVE ENCRYPTION EXPERIENCE Looking for a ...  \n",
       "9        CA  Duties and ResponsibilitiesConsultants play a ...  \n",
       "10       TX  Position located in Addison TX part of DallasF...  \n",
       "11       CA  We are hiring in beautiful San Francisco Calif...  \n",
       "12       NJ  About Audible   Audible Inc is the worlds larg...  \n",
       "13       NY  SAP Technical Lead ERP ECC HANA in Melville NY...  \n",
       "14       NY  This is regarding contract  oppurtunity in New...  "
      ]
     },
     "execution_count": 3,
     "metadata": {},
     "output_type": "execute_result"
    }
   ],
   "source": [
    "all_jobs = pd.read_csv(\"../data/derived_job_data.csv\")\n",
    "all_jobs.head(15)"
   ]
  },
  {
   "cell_type": "markdown",
   "metadata": {},
   "source": [
    "### Collect Gendered Jobs"
   ]
  },
  {
   "cell_type": "code",
   "execution_count": 4,
   "metadata": {},
   "outputs": [
    {
     "data": {
      "text/plain": [
       "2474"
      ]
     },
     "execution_count": 4,
     "metadata": {},
     "output_type": "execute_result"
    }
   ],
   "source": [
    "gendered_jobs = pd.DataFrame()\n",
    "\n",
    "for gendered_word in (gender_pronouns + masculine_themed_wording):\n",
    "    results = all_jobs.where(all_jobs[\"description\"].str.find(gendered_word) != -1)\n",
    "    gendered_jobs = pd.concat([gendered_jobs, results])\n",
    "    \n",
    "gendered_jobs = gendered_jobs.drop_duplicates(keep=False)\n",
    "gendered_jobs.shape[0]"
   ]
  },
  {
   "cell_type": "markdown",
   "metadata": {},
   "source": [
    "### First we'll get the information from the data frame"
   ]
  },
  {
   "cell_type": "code",
   "execution_count": 5,
   "metadata": {},
   "outputs": [],
   "source": [
    "def stem_tokens(s): \n",
    "#This function creates a list of stemmed words from a string\n",
    "    ps = PorterStemmer()\n",
    "    tokens = word_tokenize(s)\n",
    "    stem = list(map(lambda x : ps.stem(x), tokens))\n",
    "    \n",
    "    return stem "
   ]
  },
  {
   "cell_type": "code",
   "execution_count": 6,
   "metadata": {},
   "outputs": [],
   "source": [
    "tokenized_description = all_jobs['description'].apply(lambda x: ' '.join(stem_tokens(x)))\n",
    "# tokenized_description = pd.read_csv('dataWithStemmedDescription.csv')['description']"
   ]
  },
  {
   "cell_type": "code",
   "execution_count": 7,
   "metadata": {},
   "outputs": [],
   "source": [
    "def phraseCount(phrase, description): \n",
    "#this counts the amount of times phrase shows up in description\n",
    "    s = '\\\\b(' + phrase + ')\\\\b'\n",
    "    regex = re.compile(s,re.IGNORECASE)\n",
    "    return len(re.findall(regex, description))"
   ]
  },
  {
   "cell_type": "code",
   "execution_count": 8,
   "metadata": {},
   "outputs": [],
   "source": [
    "def indicesOfJobsWithPhrase(phrase, df, descriptionDict): \n",
    "# this given a phrase, data frame, stemmed description list\n",
    "# it will find if the phrase is in the description or the stemmed description\n",
    "# if it is it will return the indices of these jobs that contain this phrase\n",
    "    indices = []\n",
    "    for index, row in df.iterrows(): \n",
    "        stemmedPhrase = ' '.join(stem_tokens(phrase))\n",
    "        if phraseCount(phrase,row.get('description')) > 0 \\\n",
    "        or phraseCount(stemmedPhrase, descriptionDict[index]) > 0: \n",
    "            indices.append(index)\n",
    "    return indices\n"
   ]
  },
  {
   "cell_type": "code",
   "execution_count": 9,
   "metadata": {},
   "outputs": [],
   "source": [
    "def computeStateInfo(state, full_df,descriptions,themed_wording): \n",
    "# this finds the information of the individual words for this state\n",
    "# there will be a word count, indicies of the data set where it is found\n",
    "# number percentage of biased jobs for this state\n",
    "    stateInfo = {}\n",
    "    stateInfo['region'] = state\n",
    "    stateInfo['word_count'] = {}\n",
    "    stateInfo['word_indices'] = {}\n",
    "    state_df = full_df.where(full_df['location'] == state).dropna()\n",
    "    biasedIndices = []; \n",
    "    \n",
    "    for word in themed_wording: \n",
    "        \n",
    "        indices = indicesOfJobsWithPhrase(word, state_df, descriptions)\n",
    "        stateInfo['word_count'][word] = len(indices)\n",
    "        stateInfo['word_indices'][word] = indices\n",
    "        biasedIndices += indices\n",
    "    \n",
    "    topWords = [item[0] for item in reversed(sorted(stateInfo['word_count'].items(), key = lambda kv: kv[1]))][:5]\n",
    "    \n",
    "    stateInfo['numberOfJobsInDataSet'] = len(state_df)\n",
    "    stateInfo['numberOfBiasedJobs'] = len(set(biasedIndices))\n",
    "    try: \n",
    "        stateInfo['percentageOfBiasedJobs'] = float(stateInfo['numberOfBiasedJobs']/ stateInfo['numberOfJobsInDataSet']) * 100\n",
    "    except ZeroDivisionError: \n",
    "        stateInfo['percentageOfBiasedJobs'] = 'NA'\n",
    "                                                                                                               \n",
    "    stateInfo['questionFour'] = topWords\n",
    "    stateInfo['questionFive'] = {kv[0]: (kv[1] / stateInfo['numberOfJobsInDataSet'] * 100 if stateInfo['numberOfJobsInDataSet'] > 0 else 'NA')\n",
    "                                         for kv in stateInfo['word_count'].items()}\n",
    "    return stateInfo"
   ]
  },
  {
   "cell_type": "code",
   "execution_count": 10,
   "metadata": {},
   "outputs": [],
   "source": [
    "def exportInfo(DF,themed_wording,name): \n",
    "# this function creates a list of dictionaries of state information for all states\n",
    "# this also writes it to a csv file with the given name\n",
    "    data = [computeStateInfo(state, DF,tokenized_description,themed_wording) for state in states]\n",
    "    stateData = data; \n",
    "    with open(name+'.json', 'w') as outfile:\n",
    "        json.dump(stateData, outfile,indent = 4)\n",
    "    return stateData"
   ]
  },
  {
   "cell_type": "code",
   "execution_count": null,
   "metadata": {},
   "outputs": [],
   "source": [
    "import time\n",
    "startTime = time.time()\n",
    "\n",
    "themed_wording = masculine_themed_wording\n",
    "name = 'originalMasculineWords'\n",
    "\n",
    "stateData = exportInfo(all_jobs,themed_wording,name)\n",
    "\n",
    "runtime = time.time() - startTime\n",
    "print(\"runtime:\",runtime)"
   ]
  },
  {
   "cell_type": "code",
   "execution_count": null,
   "metadata": {},
   "outputs": [],
   "source": [
    "def getPercentagesOverall(stateData): \n",
    "    numberOfGenderedJobs = sum([state['numberOfBiasedJobs']for state in stateData])\n",
    "    numberOfJobs = all_jobs.shape[0]\n",
    "    percentageOfGenderedJobs = numberOfGenderedJobs / numberOfJobs * 100\n",
    "    print('percentage of gendered jobs:', percentageOfGenderedJobs)\n",
    "    print('number of gendered jobs:', numberOfGenderedJobs)"
   ]
  },
  {
   "cell_type": "code",
   "execution_count": null,
   "metadata": {},
   "outputs": [],
   "source": []
  },
  {
   "cell_type": "code",
   "execution_count": null,
   "metadata": {},
   "outputs": [],
   "source": []
  },
  {
   "cell_type": "markdown",
   "metadata": {},
   "source": [
    "## Question 1: What percentage has gender pronouns in the job posting?\n",
    "\n",
    "Here we will find which job postings contain the actual pronouns in the job listings. We check if they are more biased towards masculine gender pronouns. "
   ]
  },
  {
   "cell_type": "code",
   "execution_count": null,
   "metadata": {},
   "outputs": [],
   "source": [
    "def phraseCount(phrase, description): \n",
    "    #this counts the amount of times phrase shows up in description\n",
    "    s = '\\\\b(' + phrase + ')\\\\b'\n",
    "    regex = re.compile(s,re.IGNORECASE)\n",
    "    return len(re.findall(regex, description))"
   ]
  },
  {
   "cell_type": "code",
   "execution_count": null,
   "metadata": {},
   "outputs": [],
   "source": [
    "def findNumberOfJobsWithPronouns(data_set): \n",
    "    mpronouns = ['he', 'him' ,'his']\n",
    "    fpronouns = ['she', 'her', 'hers']\n",
    "    pronounCounter = 0\n",
    "    mascPronounCounter = 0\n",
    "    femPronounCounter = 0\n",
    "    for index, row in data_set.iterrows():\n",
    "        mcount = 0\n",
    "        fcount = 0\n",
    "        for word in mpronouns: \n",
    "            mcount += phraseCount(word, row.get('description'))\n",
    "        for word in fpronouns: \n",
    "            fcount += phraseCount(word, row.get('description'))\n",
    "        if mcount + fcount > 0:\n",
    "            pronounCounter +=1 \n",
    "        if mcount > fcount: \n",
    "            mascPronounCounter += 1\n",
    "        if mcount < fcount: \n",
    "            femPronounCounter += 1\n",
    "\n",
    "    print('Number of jobs that have gendered pronouns:', pronounCounter, \" percentage: \", pronounCounter/data_set.shape[0] * 100)\n",
    "    print('More masculine pronouns:', mascPronounCounter,\" percentage: \", mascPronounCounter/pronounCounter * 100)\n",
    "    print('More feminine pronouns:', femPronounCounter,\" percentage: \", femPronounCounter/pronounCounter * 100)"
   ]
  },
  {
   "cell_type": "code",
   "execution_count": null,
   "metadata": {},
   "outputs": [],
   "source": [
    "findNumberOfJobsWithPronouns(all_jobs)"
   ]
  },
  {
   "cell_type": "markdown",
   "metadata": {},
   "source": [
    "We find that about 1.7% of the job listings in our data set have those gendered phrases. But of those listings, 36% contain more masculine pronouns while only 24% contain more feminine pronouns."
   ]
  },
  {
   "cell_type": "markdown",
   "metadata": {},
   "source": [
    "## Questions 2: How are gendered job postings distributed across the USA?"
   ]
  },
  {
   "cell_type": "code",
   "execution_count": null,
   "metadata": {},
   "outputs": [],
   "source": [
    "%matplotlib notebook"
   ]
  },
  {
   "cell_type": "code",
   "execution_count": null,
   "metadata": {},
   "outputs": [],
   "source": [
    "with open ('originalMasculineWords.json') as jsonfile: \n",
    "    jsonInfo = json.load(jsonfile)\n",
    "getPercentagesOverall(jsonInfo)"
   ]
  },
  {
   "cell_type": "code",
   "execution_count": null,
   "metadata": {},
   "outputs": [],
   "source": [
    "fig1 , ax = plt.subplots()\n",
    "x = [state['region'] for state in reversed(sorted(jsonInfo, key = lambda x: x['numberOfJobsInDataSet'])) if state['percentageOfBiasedJobs'] != 'NA']\n",
    "y = [float(state['percentageOfBiasedJobs']) for state in reversed(sorted(jsonInfo, key = lambda x: x['numberOfJobsInDataSet'])) if state['percentageOfBiasedJobs'] != 'NA']\n",
    "\n",
    "ax.bar(x,y)\n",
    "ax.tick_params(axis='x', which='major', rotation = 270)\n",
    "ax.set_xlabel('state')\n",
    "ax.set_ylabel('percentage of gendered job postings')\n",
    "ax.set_title('Gender Biased Jobs (Original Words)')"
   ]
  },
  {
   "cell_type": "markdown",
   "metadata": {},
   "source": [
    "This bar graph shows that on average there is about 30% of gendered job across the United States. Since some of our states have much more jobs than others, We ordered the states in the amount of data we had per state. The states towards the end of the graph have single digits. There is no significanct evidence that that some states are more gender biased than others as the percentages are very close to each other"
   ]
  },
  {
   "cell_type": "code",
   "execution_count": null,
   "metadata": {},
   "outputs": [],
   "source": [
    "with open ('obviouslyMasculineWording.json') as jsonfile: \n",
    "    jsonInfo = json.load(jsonfile)\n",
    "getPercentagesOverall(jsonInfo)"
   ]
  },
  {
   "cell_type": "code",
   "execution_count": null,
   "metadata": {},
   "outputs": [],
   "source": [
    "fig2 , ax = plt.subplots()\n",
    "x = [state['region'] for state in reversed(sorted(jsonInfo, key = lambda x: x['numberOfJobsInDataSet'])) if state['percentageOfBiasedJobs'] != 'NA']\n",
    "y = [float(state['percentageOfBiasedJobs']) for state in reversed(sorted(jsonInfo, key = lambda x: x['numberOfJobsInDataSet'])) if state['percentageOfBiasedJobs'] != 'NA']\n",
    "\n",
    "ax.bar(x,y)\n",
    "ax.tick_params(axis='x', which='major', rotation = 270)\n",
    "ax.set_xlabel('state')\n",
    "ax.set_ylabel('percentage of gendered job postings')\n",
    "ax.set_title('Gender Biased Jobs (More Obvious Words)')"
   ]
  },
  {
   "cell_type": "markdown",
   "metadata": {},
   "source": [
    "By using a subset which we dropped terms that sounded more neutral to us like 'analyze' and 'leader' and taking the percentage of those, we get an average of about 12%"
   ]
  },
  {
   "cell_type": "markdown",
   "metadata": {},
   "source": [
    "## Question 3: What are the most common roles in tech that have gendered job postings?\n",
    "\n",
    "Note: Explination and Process"
   ]
  },
  {
   "cell_type": "code",
   "execution_count": null,
   "metadata": {},
   "outputs": [],
   "source": [
    "common_roles_occurences = [\n",
    "    \"developer\",\n",
    "    \"frontend\",\n",
    "    \"backend\",\n",
    "    \"UX\",\n",
    "    \"engineer\",\n",
    "    \"product\",\n",
    "    \"manager\",\n",
    "    \"lead\",\n",
    "    \"analyst\",\n",
    "    \"scientist\",\n",
    "    \"designer\",\n",
    "    \"sales\",\n",
    "    \"marketing\",\n",
    "    \"accountant\",\n",
    "    \"devops\"\n",
    "]\n",
    "\n",
    "jobs_captured = 0\n",
    "\n",
    "for role in common_roles_occurences:\n",
    "    x = all_jobs[\"job_title\"].where(all_jobs[\"description\"].str.find(role) > -1)\n",
    "    y = gendered_jobs[\"job_title\"].where(gendered_jobs[\"description\"].str.find(role) > -1)\n",
    "    count = 0\n",
    "    desc_arr2 = [] # not sure if this array is needed yet, search for the positions\n",
    "\n",
    "    for item, frame in y.iteritems():\n",
    "        if pd.notnull(frame):\n",
    "            count+=1\n",
    "            desc_arr2.append(item)\n",
    "            \n",
    "    jobs_captured += count\n",
    "    print(f\"Uses the word(s) {role}: \", count)\n",
    "    print(f\"percentage {(count / all_jobs.shape[0]) * 100}\\n\\n\")\n",
    "    \n",
    "print(jobs_captured)\n",
    "# NEEEEDS VIZ"
   ]
  },
  {
   "cell_type": "markdown",
   "metadata": {},
   "source": [
    "## Question 4: Out of the gendered words/phrases, which are the most common? "
   ]
  },
  {
   "cell_type": "code",
   "execution_count": null,
   "metadata": {},
   "outputs": [],
   "source": []
  }
 ],
 "metadata": {
  "kernelspec": {
   "display_name": "Python 3",
   "language": "python",
   "name": "python3"
  },
  "language_info": {
   "codemirror_mode": {
    "name": "ipython",
    "version": 3
   },
   "file_extension": ".py",
   "mimetype": "text/x-python",
   "name": "python",
   "nbconvert_exporter": "python",
   "pygments_lexer": "ipython3",
   "version": "3.7.1"
  }
 },
 "nbformat": 4,
 "nbformat_minor": 2
}
